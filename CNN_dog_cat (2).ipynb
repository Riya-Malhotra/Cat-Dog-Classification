{
  "cells": [
    {
      "cell_type": "code",
      "execution_count": null,
      "metadata": {
        "id": "ey8fLIinhHv8"
      },
      "outputs": [],
      "source": [
        "from google.colab import drive\n",
        "drive.mount('/content/drive')"
      ]
    },
    {
      "cell_type": "code",
      "execution_count": null,
      "metadata": {
        "id": "IP1DNXxyhSgs"
      },
      "outputs": [],
      "source": [
        "import numpy as np \n",
        "import matplotlib.pyplot as plt \n",
        "from keras.models import Sequential \n",
        "from keras.layers import Conv2D,MaxPooling2D,Flatten,Dense \n",
        "import warnings \n",
        "warnings.filterwarnings(\"ignore\")"
      ]
    },
    {
      "cell_type": "code",
      "execution_count": null,
      "metadata": {
        "id": "3b3x6XeslCET"
      },
      "outputs": [],
      "source": [
        "from keras.preprocessing.image import ImageDataGenerator"
      ]
    },
    {
      "cell_type": "code",
      "execution_count": null,
      "metadata": {
        "id": "SJ_jAgpamw30"
      },
      "outputs": [],
      "source": [
        "train_datagen= ImageDataGenerator(rescale=1./255,\n",
        "                                  shear_range=0.2,\n",
        "                                zoom_range=0.2,\n",
        "                                horizontal_flip=True)\n",
        "test_datagen=ImageDataGenerator(rescale=1./255,\n",
        "                                  shear_range=0.2,\n",
        "                                zoom_range=0.2,\n",
        "                                horizontal_flip=True)"
      ]
    },
    {
      "cell_type": "code",
      "execution_count": null,
      "metadata": {
        "id": "Cs6OgtH7nsx7"
      },
      "outputs": [],
      "source": [
        "train= train_datagen.flow_from_directory(\"/content/drive/MyDrive/DL/CNN/train\",target_size=(224,224), \n",
        "                                         batch_size=32,\n",
        "                                         class_mode=\"binary\")\n",
        "test= test_datagen.flow_from_directory(\"/content/drive/MyDrive/DL/CNN/Test\",target_size=(224,224), \n",
        "                                         batch_size=32,\n",
        "                                         class_mode=\"binary\")"
      ]
    },
    {
      "cell_type": "code",
      "execution_count": null,
      "metadata": {
        "id": "I7JblM0I961A"
      },
      "outputs": [],
      "source": [
        "x"
      ]
    },
    {
      "cell_type": "code",
      "execution_count": null,
      "metadata": {
        "id": "eoF11erMo-bT"
      },
      "outputs": [],
      "source": [
        "from keras.models import Sequential\n",
        "from keras.layers import Conv2D, MaxPooling2D, Dropout, Flatten, Dense, Activation, BatchNormalization"
      ]
    },
    {
      "cell_type": "code",
      "execution_count": null,
      "metadata": {
        "id": "JphFxZbX94B3"
      },
      "outputs": [],
      "source": []
    },
    {
      "cell_type": "code",
      "execution_count": null,
      "metadata": {
        "id": "yLII1nU2pPE5"
      },
      "outputs": [],
      "source": [
        "model=Sequential()\n",
        "model.add(Conv2D(filters=32, kernel_size=(3,3),strides=1, padding=\"valid\", activation=\n",
        "                 \"relu\", input_shape=(224,224,3)))\n",
        "model.add(BatchNormalization())\n",
        "model.add(MaxPooling2D(pool_size=(2,2)))\n",
        "model.add(Dropout(0.25))\n",
        "\n",
        "\n",
        "model.add(Conv2D(filters=64, kernel_size=(3,3),strides=1, padding=\"valid\", activation=\n",
        "                 \"relu\"))\n",
        "model.add(BatchNormalization())\n",
        "model.add(MaxPooling2D(pool_size=(2,2)))\n",
        "model.add(Dropout(0.25))\n",
        "\n",
        "model.add(Flatten())\n",
        "\n",
        "#Artificial Neural Network\n",
        "model.add(Dense(512, activation=\"relu\"))\n",
        "model.add(BatchNormalization())\n",
        "model.add(Dropout(0.5))\n",
        "#output Layer model.add(Dense(unit=1, activation=\"sigmoid\"))\n",
        "model.add(Dense(1,activation=\"sigmoid\"))"
      ]
    },
    {
      "cell_type": "code",
      "execution_count": null,
      "metadata": {
        "id": "W2l2n7mwrheT"
      },
      "outputs": [],
      "source": [
        "model.summary()"
      ]
    },
    {
      "cell_type": "code",
      "execution_count": null,
      "metadata": {
        "id": "78tL97bkrjuN"
      },
      "outputs": [],
      "source": [
        "model.compile(loss=\"binary_crossentropy\",optimizer=\"rmsprop\",metrics=[\"accuracy\"])"
      ]
    },
    {
      "cell_type": "code",
      "execution_count": null,
      "metadata": {
        "id": "xYpQDcs5smfY"
      },
      "outputs": [],
      "source": [
        "hist=model.fit(train,epochs=10,validation_data=test)"
      ]
    },
    {
      "cell_type": "code",
      "execution_count": null,
      "metadata": {
        "id": "2qWokfrexAWo"
      },
      "outputs": [],
      "source": [
        "#predicting the new image whether its dog or cat\n",
        "from tensorflow.keras.preprocessing import image"
      ]
    },
    {
      "cell_type": "code",
      "execution_count": null,
      "metadata": {
        "id": "DaD4LzpQ5AVh"
      },
      "outputs": [],
      "source": [
        "new= image.load_img(r\"/content/drive/MyDrive/DL/CNN/tiger(1).jfif\",target_size=(224,224))"
      ]
    },
    {
      "cell_type": "code",
      "execution_count": null,
      "metadata": {
        "id": "cYg7Bouh7Mnv"
      },
      "outputs": [],
      "source": [
        "new"
      ]
    },
    {
      "cell_type": "code",
      "execution_count": null,
      "metadata": {
        "id": "1VY5ltdo7Olv"
      },
      "outputs": [],
      "source": [
        "new=image.img_to_array(new)\n",
        "new.shape"
      ]
    },
    {
      "cell_type": "code",
      "execution_count": null,
      "metadata": {
        "id": "kaByAkrA-Z5I"
      },
      "outputs": [],
      "source": [
        "new=np.expand_dims(new,axis=0) #hmara upr datta bhi 4d h bcz ek image nhi h bohot sari h usme islie expand kr rhe hai\n",
        "new.shape"
      ]
    },
    {
      "cell_type": "code",
      "execution_count": null,
      "metadata": {
        "id": "Tmr7N0GW-hmf"
      },
      "outputs": [],
      "source": [
        "result=model.predict(new)\n",
        "result"
      ]
    },
    {
      "cell_type": "code",
      "execution_count": null,
      "metadata": {
        "id": "Hons3Sz7-mUi"
      },
      "outputs": [],
      "source": [
        "if result[0][0]>=.5:\n",
        "  print(\"its a dog\")\n",
        "else:\n",
        "  print(\"its a cat\")\n"
      ]
    },
    {
      "cell_type": "code",
      "execution_count": null,
      "metadata": {
        "id": "dsHoxWak-65L"
      },
      "outputs": [],
      "source": [
        "train.class_indices  #isse pta lg rha h ki cat ko 0 assign hua h and dog ko 1"
      ]
    },
    {
      "cell_type": "code",
      "execution_count": null,
      "metadata": {
        "id": "en41rY8S_B7e"
      },
      "outputs": [],
      "source": [
        "#To read multiple images together"
      ]
    },
    {
      "cell_type": "code",
      "execution_count": null,
      "metadata": {
        "id": "_xBVOWIIAVgn"
      },
      "outputs": [],
      "source": [
        "import os\n",
        "import PIL"
      ]
    },
    {
      "cell_type": "code",
      "execution_count": null,
      "metadata": {
        "id": "ncy219jvDxO6"
      },
      "outputs": [],
      "source": [
        "os.chdir(\"/content/drive/MyDrive/DL/CNN/Test/cats\")"
      ]
    },
    {
      "cell_type": "code",
      "execution_count": null,
      "metadata": {
        "id": "NQQL2l79EPOs"
      },
      "outputs": [],
      "source": [
        "paths=[]\n",
        "for i in os.listdir():\n",
        "  paths.append(\"/content/drive/MyDrive/DL/CNN/Test/cats/\"+str(i))"
      ]
    },
    {
      "cell_type": "code",
      "execution_count": null,
      "metadata": {
        "id": "d34cj3PPE44r"
      },
      "outputs": [],
      "source": [
        "x_test=[]\n",
        "def convert(x):\n",
        "  \"Function to convert all input images to the standard size and create training dataset\"\n",
        "\n",
        "  for f in paths:\n",
        "    if os.path.isdir(f):\n",
        "      continue\n",
        "    img=PIL.Image.open(f)\n",
        "    img= img.resize((224,224))\n",
        "    img=np.array(img)\n",
        "    x.append(img)\n",
        "  return x\n",
        "x_test=np.array(convert(x_test))\n",
        "train_datagen.fit(x_test)"
      ]
    },
    {
      "cell_type": "code",
      "execution_count": null,
      "metadata": {
        "id": "N_VgVGgsGIlD"
      },
      "outputs": [],
      "source": [
        "prediction=model.predict(x_test)"
      ]
    },
    {
      "cell_type": "code",
      "execution_count": null,
      "metadata": {
        "id": "idyvylhFGeIM"
      },
      "outputs": [],
      "source": [
        "category=[]\n",
        "for i in prediction:\n",
        "  if i>.5:\n",
        "    category.append(\"Dog\")\n",
        "  else:\n",
        "    category.append(\"Cat\")\n"
      ]
    },
    {
      "cell_type": "code",
      "execution_count": null,
      "metadata": {
        "colab": {
          "background_save": true
        },
        "id": "gbn2S_PSHYE0"
      },
      "outputs": [],
      "source": [
        "import matplotlib.pyplot as plt\n",
        "for i,j in zip(paths,category):\n",
        "  plt.title(\"predicted: \"+str(j))\n",
        "  plt.imshow(plt.imread(i))\n",
        "  plt.show()"
      ]
    },
    {
      "cell_type": "code",
      "execution_count": null,
      "metadata": {
        "id": "QnE1q8JFHsG-"
      },
      "outputs": [],
      "source": []
    }
  ],
  "metadata": {
    "accelerator": "GPU",
    "colab": {
      "provenance": []
    },
    "gpuClass": "standard",
    "kernelspec": {
      "display_name": "Python 3",
      "name": "python3"
    },
    "language_info": {
      "name": "python"
    }
  },
  "nbformat": 4,
  "nbformat_minor": 0
}